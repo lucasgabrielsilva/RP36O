{
 "metadata": {
  "language_info": {
   "codemirror_mode": {
    "name": "ipython",
    "version": 3
   },
   "file_extension": ".py",
   "mimetype": "text/x-python",
   "name": "python",
   "nbconvert_exporter": "python",
   "pygments_lexer": "ipython3",
   "version": "3.8.5-final"
  },
  "orig_nbformat": 2,
  "kernelspec": {
   "name": "python3",
   "display_name": "Python 3.8.5 32-bit",
   "metadata": {
    "interpreter": {
     "hash": "8e5e3570d46ee934e4f49936f453672a4b7969ed03f2241dd75a2a7ed3833264"
    }
   }
  }
 },
 "nbformat": 4,
 "nbformat_minor": 2,
 "cells": [
  {
   "source": [
    "# Características\n",
    "\n",
    "As características a serem extraídas dos dados dependem da natureza do dado a ser analisado. Os dados EMG são sinais elétricos coletados dentro de um período de tempo, portanto são dados no domínio do tempo e características do domínio do tempo são extraídas dele. Porém também é possível transformar os dados EMG para o domínio da frequência e extrair características do domínio da frequência. Existem diversas características que podem ser extraídas de cada domínio, entretando nem todas elas serão relevantes. Cada problema se beneficia de características, ou combinações de características, diferentes. Por tanto é preciso que haja uma seleção de características para encontrar a combinação de características que trará melhor resultado na análise dos dados.\n"
   ],
   "cell_type": "markdown",
   "metadata": {}
  },
  {
   "source": [
    "## Preparando o terreno\n",
    "\n",
    "É necessário carregar os dados pré-processados, prontos para as es"
   ],
   "cell_type": "markdown",
   "metadata": {}
  },
  {
   "cell_type": "code",
   "execution_count": null,
   "metadata": {},
   "outputs": [],
   "source": []
  },
  {
   "source": [
    "Uma característica é uma propriedade individual mensurável ou característica de um fenômeno que está sendo observado. Em EMG uma característica pode ser extraida no domínio do tempo ou no domínio da frequência. As características a seguir foram retiradas do artigo *EMG Feature Extraction for Tolerance of White Gaussian Noise* \\[1\\].\n",
    "\n",
    "### Domínio do tempo\n",
    "\n",
    "1. Willison Amplitude (WAMP)\n",
    "\n",
    "    ![WAMP](lib/img/features/WAMP.png)\n",
    "\n",
    "2. Root Mean Square (RMS)\n",
    "\n",
    "    ![RMS](lib/img/features/RMS.png)\n",
    "\n",
    "3. Waveform Length (WL)\n",
    "    \n",
    "    ![WL](lib/img/features/WL.png)\n",
    "\n",
    "4. Zero Crossing (ZC)\n",
    "\n",
    "    ![ZC](lib/img/features/ZC.png)\n",
    "\n",
    "### Domínio da frequência\n",
    "\n",
    "1. Auto Regressive (AR)\n",
    "\n",
    "    ![AR](lib/img/features/AR.png)\n",
    "\n",
    "2. Median Frequency (FMD)\n",
    "\n",
    "    ![FMD](lib/img/features/FMD.png)\n",
    "\n",
    "3. Mean Frequency (FMN)\n",
    "\n",
    "    ![FMN](lib/img/features/FMN.png)\n",
    "\n",
    "\\[1\\] Phinyomark, Angkoon & Limsakul, Chusak & Phukpattaranont, P.. (2008). EMG Feature Extraction for Tolerance of White Gaussian Noise.\n",
    "[Disponível neste link](https://www.researchgate.net/publication/263765853_EMG_Feature_Extraction_for_Tolerance_of_White_Gaussian_Noise)"
   ],
   "cell_type": "markdown",
   "metadata": {}
  },
  {
   "source": [
    "### Extraindo características\n",
    "\n",
    "É necessário implementar as características, geralmente em formato de funções ou métodos, para que seja possível aplicar tais funções aos dados de entrada e obter as características resultantes. A seguir temos a implementação da característica Zero Crossing (ZC)."
   ],
   "cell_type": "markdown",
   "metadata": {}
  },
  {
   "cell_type": "code",
   "execution_count": 1,
   "metadata": {},
   "outputs": [],
   "source": [
    "def ZC(x):\n",
    "    aux = []\n",
    "    for i in range(1023):\n",
    "        aux.append((-x[:,:,:,:,i] * x[:,:,:,:,i+1]))\n",
    "    aux = np.array(aux)\n",
    "    aux = aux.transpose(1, 2, 3, 4, 0)\n",
    "    s = np.sum(aux, axis=-1)\n",
    "    return s"
   ]
  },
  {
   "source": [
    "Desafio: Implemente todas as características apresentadas neste tutorial em formato de funções. Sinta-se livre também para buscar e implementar características EMG além das apresentadas, citando as fontes de tais características."
   ],
   "cell_type": "markdown",
   "metadata": {}
  },
  {
   "source": [
    "### Seleção de características"
   ],
   "cell_type": "markdown",
   "metadata": {}
  },
  {
   "cell_type": "code",
   "execution_count": 2,
   "metadata": {},
   "outputs": [
    {
     "output_type": "error",
     "ename": "NameError",
     "evalue": "name 'chunks_time' is not defined",
     "traceback": [
      "\u001b[1;31m---------------------------------------------------------------------------\u001b[0m",
      "\u001b[1;31mNameError\u001b[0m                                 Traceback (most recent call last)",
      "\u001b[1;32m<ipython-input-2-03a517868fbd>\u001b[0m in \u001b[0;36m<module>\u001b[1;34m\u001b[0m\n\u001b[0;32m      9\u001b[0m \u001b[0mfeatureMatrix\u001b[0m \u001b[1;33m=\u001b[0m \u001b[1;33m{\u001b[0m\u001b[1;33m}\u001b[0m\u001b[1;33m\u001b[0m\u001b[1;33m\u001b[0m\u001b[0m\n\u001b[0;32m     10\u001b[0m \u001b[0mfeatureMatrix\u001b[0m\u001b[1;33m[\u001b[0m\u001b[1;34m's1'\u001b[0m\u001b[1;33m]\u001b[0m \u001b[1;33m=\u001b[0m \u001b[1;33m{\u001b[0m\u001b[1;33m}\u001b[0m\u001b[1;33m\u001b[0m\u001b[1;33m\u001b[0m\u001b[0m\n\u001b[1;32m---> 11\u001b[1;33m \u001b[0mfeatureMatrix\u001b[0m\u001b[1;33m[\u001b[0m\u001b[1;34m's1'\u001b[0m\u001b[1;33m]\u001b[0m\u001b[1;33m[\u001b[0m\u001b[1;34m'ZC'\u001b[0m\u001b[1;33m]\u001b[0m \u001b[1;33m=\u001b[0m \u001b[0mfeaturesFunctions\u001b[0m\u001b[1;33m[\u001b[0m\u001b[1;34m'ZC'\u001b[0m\u001b[1;33m]\u001b[0m\u001b[1;33m(\u001b[0m\u001b[0mchunks_time\u001b[0m\u001b[1;33m[\u001b[0m\u001b[1;34m's1'\u001b[0m\u001b[1;33m]\u001b[0m\u001b[1;33m)\u001b[0m\u001b[1;33m\u001b[0m\u001b[1;33m\u001b[0m\u001b[0m\n\u001b[0m\u001b[0;32m     12\u001b[0m \u001b[0mprint\u001b[0m\u001b[1;33m(\u001b[0m\u001b[1;34m'Features shape'\u001b[0m\u001b[1;33m)\u001b[0m\u001b[1;33m\u001b[0m\u001b[1;33m\u001b[0m\u001b[0m\n\u001b[0;32m     13\u001b[0m \u001b[0mprint\u001b[0m\u001b[1;33m(\u001b[0m\u001b[1;34m'ZC: '\u001b[0m\u001b[1;33m,\u001b[0m \u001b[0mfeatureMatrix\u001b[0m\u001b[1;33m[\u001b[0m\u001b[1;34m's1'\u001b[0m\u001b[1;33m]\u001b[0m\u001b[1;33m[\u001b[0m\u001b[1;34m'ZC'\u001b[0m\u001b[1;33m]\u001b[0m\u001b[1;33m.\u001b[0m\u001b[0mshape\u001b[0m\u001b[1;33m)\u001b[0m\u001b[1;33m\u001b[0m\u001b[1;33m\u001b[0m\u001b[0m\n",
      "\u001b[1;31mNameError\u001b[0m: name 'chunks_time' is not defined"
     ]
    }
   ],
   "source": [
    "# Acrescente todas as features implementadas no dicionário de features\n",
    "featuresFunctions = {}\n",
    "featuresFunctions['ZC'] = lambda x: ZC(x)\n",
    "\n",
    "\n",
    "# Adapte o código para que todas as features sejam aplicadas a todas as pessoas\n",
    "# Dica: utilize f strings para conseguir iterar sobre as chaves dos dicionarios\n",
    "\n",
    "featureMatrix = {}\n",
    "featureMatrix['s1'] = {}\n",
    "featureMatrix['s1']['ZC'] = featuresFunctions['ZC'](chunks_time['s1'])\n",
    "print('Features shape')\n",
    "print('ZC: ', featureMatrix['s1']['ZC'].shape)\n"
   ]
  }
 ]
}